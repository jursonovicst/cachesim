{
 "cells": [
  {
   "cell_type": "code",
   "execution_count": 3,
   "metadata": {
    "collapsed": true
   },
   "outputs": [],
   "source": [
    "from caches import LFUCache, NonCache, SimpleCache, LRUCache, GLFUCache, BeladyCache\n",
    "from cachesim import Status, Request\n",
    "from cachesim.tools import PBarMixIn\n",
    "import numpy as np\n",
    "from tqdm.auto import tqdm"
   ]
  },
  {
   "cell_type": "code",
   "execution_count": 4,
   "outputs": [],
   "source": [
    "hashes = np.random.randint(10, size=100)\n",
    "requests = list([Request(time, chash, 1, maxage=3000) for time, chash in enumerate(hashes)])"
   ],
   "metadata": {
    "collapsed": false
   }
  },
  {
   "cell_type": "code",
   "execution_count": 5,
   "outputs": [],
   "source": [
    "class MyBeladyCache(PBarMixIn, BeladyCache):\n",
    "    pass\n",
    "\n",
    "belady = MyBeladyCache(maxsize=5, future=hashes)"
   ],
   "metadata": {
    "collapsed": false
   }
  },
  {
   "cell_type": "code",
   "execution_count": 6,
   "outputs": [
    {
     "name": "stderr",
     "output_type": "stream",
     "text": [
      "Belady:   0%|          | 0/100 [00:00<?, ?it/s]\n"
     ]
    },
    {
     "ename": "SyntaxError",
     "evalue": "Belady's algorithm needs to know the future, use the setitem method. (<string>)",
     "output_type": "error",
     "traceback": [
      "Traceback \u001B[0;36m(most recent call last)\u001B[0m:\n",
      "\u001B[0;36m  File \u001B[0;32m~/PycharmProjects/cachesim/venv/lib/python3.11/site-packages/cachetools/__init__.py:68\u001B[0;36m in \u001B[0;35m__getitem__\u001B[0;36m\n\u001B[0;31m    return self.__data[key]\u001B[0;36m\n",
      "\u001B[0;31mKeyError\u001B[0m\u001B[0;31m:\u001B[0m 6\n",
      "\nDuring handling of the above exception, another exception occurred:\n",
      "Traceback \u001B[0;36m(most recent call last)\u001B[0m:\n",
      "\u001B[0m  File \u001B[1;32m~/PycharmProjects/cachesim/cachesim/requestmixin.py:26\u001B[0m in \u001B[1;35m_recv\u001B[0m\n    self[request.hash]\u001B[0m\n",
      "\u001B[0m  File \u001B[1;32m~/PycharmProjects/cachesim/venv/lib/python3.11/site-packages/cachetools/__init__.py:70\u001B[0m in \u001B[1;35m__getitem__\u001B[0m\n    return self.__missing__(key)\u001B[0m\n",
      "\u001B[0;36m  File \u001B[0;32m~/PycharmProjects/cachesim/venv/lib/python3.11/site-packages/cachetools/__init__.py:97\u001B[0;36m in \u001B[0;35m__missing__\u001B[0;36m\n\u001B[0;31m    raise KeyError(key)\u001B[0;36m\n",
      "\u001B[0;31mKeyError\u001B[0m\u001B[0;31m:\u001B[0m 6\n",
      "\nDuring handling of the above exception, another exception occurred:\n",
      "Traceback \u001B[0;36m(most recent call last)\u001B[0m:\n",
      "\u001B[0m  File \u001B[1;32m~/PycharmProjects/cachesim/venv/lib/python3.11/site-packages/IPython/core/interactiveshell.py:3548\u001B[0m in \u001B[1;35mrun_code\u001B[0m\n    exec(code_obj, self.user_global_ns, self.user_ns)\u001B[0m\n",
      "\u001B[0m  Cell \u001B[1;32mIn[6], line 1\u001B[0m\n    req = list(cache.map(requests, 'Belady', 100))\u001B[0m\n",
      "\u001B[0m  File \u001B[1;32m~/PycharmProjects/cachesim/cachesim/requestmixin.py:40\u001B[0m in \u001B[1;35m_recv\u001B[0m\n    self[request.hash] = request\u001B[0m\n",
      "\u001B[0;36m  File \u001B[0;32m~/PycharmProjects/cachesim/implementations/caches/caches.py:38\u001B[0;36m in \u001B[0;35m__setitem__\u001B[0;36m\n\u001B[0;31m    raise SyntaxError(\"Belady's algorithm needs to know the future, use the setitem method.\")\u001B[0;36m\n",
      "\u001B[0;36m  File \u001B[0;32m<string>\u001B[0;36m\u001B[0m\n\u001B[0;31mSyntaxError\u001B[0m\u001B[0;31m:\u001B[0m Belady's algorithm needs to know the future, use the setitem method.\n"
     ]
    }
   ],
   "source": [
    "req = list(belady.map(requests, 'Belady', 100))"
   ],
   "metadata": {
    "collapsed": false
   }
  },
  {
   "cell_type": "code",
   "execution_count": 4,
   "outputs": [],
   "source": [],
   "metadata": {
    "collapsed": false
   }
  }
 ],
 "metadata": {
  "kernelspec": {
   "display_name": "Python 3",
   "language": "python",
   "name": "python3"
  },
  "language_info": {
   "codemirror_mode": {
    "name": "ipython",
    "version": 2
   },
   "file_extension": ".py",
   "mimetype": "text/x-python",
   "name": "python",
   "nbconvert_exporter": "python",
   "pygments_lexer": "ipython2",
   "version": "2.7.6"
  }
 },
 "nbformat": 4,
 "nbformat_minor": 0
}
