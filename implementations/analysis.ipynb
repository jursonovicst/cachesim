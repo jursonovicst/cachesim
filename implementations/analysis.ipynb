{
 "cells": [
  {
   "cell_type": "code",
   "execution_count": 7,
   "metadata": {
    "collapsed": true
   },
   "outputs": [],
   "source": [
    "from readers.populationreader import PopulationReader\n",
    "from caches.lfucache import LFUCache\n",
    "from cachesim.tools import PBarMixIn\n",
    "from cachesim import Status"
   ]
  },
  {
   "cell_type": "code",
   "execution_count": 11,
   "outputs": [
    {
     "name": "stdout",
     "output_type": "stream",
     "text": [
      "Create population...\n"
     ]
    }
   ],
   "source": [
    "count = 1000000\n",
    "cbase = count // 10\n",
    "\n",
    "\n",
    "def hns(n: int, s: float) -> float:\n",
    "    return sum([k ** -s for k in range(1, n + 1)])\n",
    "\n",
    "\n",
    "print(\"Create population...\")\n",
    "s = 1.3\n",
    "HNs = hns(cbase, s)\n",
    "reader = PopulationReader(count, cbase, weights=[k ** -s / HNs for k in range(1, cbase + 1)])"
   ],
   "metadata": {
    "collapsed": false
   }
  },
  {
   "cell_type": "code",
   "execution_count": 9,
   "outputs": [
    {
     "name": "stderr",
     "output_type": "stream",
     "text": [
      "MyCache: 100%|██████████| 1000000/1000000 [00:02<00:00, 402992.15it/s]\n"
     ]
    }
   ],
   "source": [
    "sizer = 0.1\n",
    "\n",
    "\n",
    "class MyCache(PBarMixIn, LFUCache):\n",
    "    pass\n",
    "\n",
    "\n",
    "cache = MyCache(totalsize=cbase * sizer)\n",
    "\n",
    "req, age = zip(*list(cache.map(reader)))"
   ],
   "metadata": {
    "collapsed": false
   }
  },
  {
   "cell_type": "code",
   "execution_count": 16,
   "outputs": [
    {
     "name": "stdout",
     "output_type": "stream",
     "text": [
      "Requests: 1000000\n",
      "CHR: 95.63% (expected: 97.26%)\n",
      "Bytes sent: 1000000 B\n"
     ]
    }
   ],
   "source": [
    "hit = sum(map(lambda r: r.status == Status.HIT, req))\n",
    "print(f\"Requests: {len(req)}\")\n",
    "print(f\"CHR: {hit / len(req) * 100:.2f}% (expected: {hns(int(cbase * sizer), s) / hns(cbase, s) * 100:.2f}%)\")\n",
    "print(f\"Bytes sent: {sum(r.size for r in req)} B\")\n",
    "\n",
    "x = [r.time for r in req]"
   ],
   "metadata": {
    "collapsed": false
   }
  },
  {
   "cell_type": "code",
   "execution_count": null,
   "outputs": [],
   "source": [],
   "metadata": {
    "collapsed": false,
    "pycharm": {
     "is_executing": true
    }
   }
  },
  {
   "cell_type": "code",
   "execution_count": 10,
   "outputs": [],
   "source": [],
   "metadata": {
    "collapsed": false
   }
  }
 ],
 "metadata": {
  "kernelspec": {
   "display_name": "Python 3",
   "language": "python",
   "name": "python3"
  },
  "language_info": {
   "codemirror_mode": {
    "name": "ipython",
    "version": 2
   },
   "file_extension": ".py",
   "mimetype": "text/x-python",
   "name": "python",
   "nbconvert_exporter": "python",
   "pygments_lexer": "ipython2",
   "version": "2.7.6"
  }
 },
 "nbformat": 4,
 "nbformat_minor": 0
}
