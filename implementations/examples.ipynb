{
 "cells": [
  {
   "cell_type": "code",
   "execution_count": 1,
   "metadata": {
    "collapsed": true
   },
   "outputs": [],
   "source": [
    "from caches import LFUCache, NonCache\n",
    "from cachesim import Status, Request\n",
    "from cachesim.tools import PBarMixIn\n",
    "from readers import PopulationReader"
   ]
  },
  {
   "cell_type": "code",
   "execution_count": 2,
   "outputs": [],
   "source": [
    "count = 1000000\n",
    "cbase = count // 10\n",
    "\n",
    "s = 1.3\n",
    "HNs = sum([k ** -s for k in range(1, cbase + 1)])"
   ],
   "metadata": {
    "collapsed": false
   }
  },
  {
   "cell_type": "markdown",
   "source": [
    "NonCache"
   ],
   "metadata": {
    "collapsed": false
   }
  },
  {
   "cell_type": "code",
   "execution_count": 13,
   "outputs": [],
   "source": [
    "reader = PopulationReader(count, cbase, weights=[k ** -s / HNs for k in range(1, cbase + 1)])\n",
    "\n",
    "\n",
    "class MyNonCache(PBarMixIn, NonCache):\n",
    "    pass\n",
    "\n",
    "\n",
    "cache = MyNonCache()"
   ],
   "metadata": {
    "collapsed": false
   }
  },
  {
   "cell_type": "markdown",
   "source": [
    "LFUCache"
   ],
   "metadata": {
    "collapsed": false
   }
  },
  {
   "cell_type": "code",
   "execution_count": 3,
   "outputs": [],
   "source": [
    "reader = PopulationReader(count, cbase, weights=[k ** -s / HNs for k in range(1, cbase + 1)])\n",
    "\n",
    "\n",
    "class MyLFUCache(PBarMixIn, LFUCache):\n",
    "    pass\n",
    "\n",
    "\n",
    "# cache size is 10% of content base\n",
    "# chr should be around 10%\n",
    "cache = MyLFUCache(totalsize=cbase // 10)"
   ],
   "metadata": {
    "collapsed": false
   }
  },
  {
   "cell_type": "markdown",
   "source": [
    "run simulation"
   ],
   "metadata": {
    "collapsed": false
   }
  },
  {
   "cell_type": "code",
   "execution_count": 4,
   "outputs": [
    {
     "name": "stderr",
     "output_type": "stream",
     "text": [
      "MyLFUCache: 100%|██████████| 1000000/1000000 [00:01<00:00, 610351.98it/s]\n"
     ]
    },
    {
     "name": "stdout",
     "output_type": "stream",
     "text": [
      "Requests: 1000000\n",
      "CHR: 95.59%\n",
      "Bytes sent: 1000000 B\n"
     ]
    }
   ],
   "source": [
    "req = list(cache.map(reader))\n",
    "\n",
    "hit = sum(map(lambda r: r.status == Status.HIT, req))\n",
    "print(f\"Requests: {len(req)}\")\n",
    "print(f\"CHR: {Request.chr(req) * 100:.2f}%\")\n",
    "print(f\"Bytes sent: {sum(r.size for r in req)} B\")\n",
    "\n",
    "x = [r.time for r in req]"
   ],
   "metadata": {
    "collapsed": false
   }
  },
  {
   "cell_type": "code",
   "execution_count": null,
   "outputs": [],
   "source": [],
   "metadata": {
    "collapsed": false
   }
  }
 ],
 "metadata": {
  "kernelspec": {
   "display_name": "Python 3",
   "language": "python",
   "name": "python3"
  },
  "language_info": {
   "codemirror_mode": {
    "name": "ipython",
    "version": 2
   },
   "file_extension": ".py",
   "mimetype": "text/x-python",
   "name": "python",
   "nbconvert_exporter": "python",
   "pygments_lexer": "ipython2",
   "version": "2.7.6"
  }
 },
 "nbformat": 4,
 "nbformat_minor": 0
}
